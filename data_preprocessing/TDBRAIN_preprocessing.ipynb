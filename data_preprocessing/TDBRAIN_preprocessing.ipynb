{
 "cells": [
  {
   "cell_type": "code",
   "id": "6ddc7a8c",
   "metadata": {
    "jupyter": {
     "is_executing": true
    }
   },
   "source": [
    "import os\n",
    "import numpy as np\n",
    "import pandas as pd\n",
    "from scipy import interpolate"
   ],
   "outputs": [],
   "execution_count": null
  },
  {
   "cell_type": "code",
   "id": "326ec80b",
   "metadata": {
    "jupyter": {
     "is_executing": true
    }
   },
   "source": [
    "# root dir\n",
    "root = 'TDBRAIN\\derivatives'\n",
    "# participants file path\n",
    "ptc_path = os.path.join(root, 'TDBRAIN_participants_V2.tsv')\n",
    "ptc = pd.read_csv(ptc_path, sep='\\t')\n",
    "ptc"
   ],
   "outputs": [],
   "execution_count": null
  },
  {
   "cell_type": "code",
   "id": "543a9052",
   "metadata": {
    "jupyter": {
     "is_executing": true
    }
   },
   "source": [
    "# delete invalid participants and the participants with invalid indication(nan, replication)\n",
    "ptc = ptc[~(ptc['participants_ID'].isna())]\n",
    "ptc = ptc[~(ptc['indication'].isna())]\n",
    "ptc = ptc[~(ptc['indication']=='REPLICATION')]\n",
    "# capitalize the indication uniformly\n",
    "ptc['indication'] = ptc['indication'].str.upper()\n",
    "# remove invalid space placeholder of disease label\n",
    "ptc['indication'] = ptc['indication'].str.strip()\n",
    "ptc"
   ],
   "outputs": [],
   "execution_count": null
  },
  {
   "cell_type": "code",
   "id": "a128c6c0",
   "metadata": {
    "jupyter": {
     "is_executing": true
    }
   },
   "source": [
    "# Get duplicate values of participants_id\n",
    "l = ptc.drop_duplicates(['participants_ID'],keep=False)['participants_ID'].to_list()\n",
    "dup_ptc = ptc[~(ptc['participants_ID'].isin(l))]\n",
    "dup_ptc"
   ],
   "outputs": [],
   "execution_count": null
  },
  {
   "cell_type": "code",
   "id": "bb4ab8ce",
   "metadata": {
    "jupyter": {
     "is_executing": true
    }
   },
   "source": [
    "# Test for the indication labels of different records of the same participant\n",
    "# Same indication for all the records of the same participant\n",
    "for i in range(len(dup_ptc)):\n",
    "    temp = dup_ptc[dup_ptc['participants_ID']==dup_ptc['participants_ID'].iloc[i]].drop_duplicates(['indication'])\n",
    "    if len(temp)!=1:\n",
    "        print('The indication of all the records of the same participant are not the same!')"
   ],
   "outputs": [],
   "execution_count": null
  },
  {
   "cell_type": "code",
   "id": "40e0d81f",
   "metadata": {
    "scrolled": true,
    "jupyter": {
     "is_executing": true
    }
   },
   "source": [
    "# Drop duplicate participants\n",
    "ptc = ptc.drop_duplicates(['participants_ID'])\n",
    "ptc"
   ],
   "outputs": [],
   "execution_count": null
  },
  {
   "cell_type": "code",
   "id": "45590684",
   "metadata": {
    "jupyter": {
     "is_executing": true
    }
   },
   "source": [
    "# EEG data preprocessing\n",
    "\n",
    "# all disease mapping\n",
    "all_dise_dict = {}\n",
    "ls_ind = list(ptc['indication'].unique())\n",
    "for i in range(len(ls_ind)):\n",
    "    all_dise_dict[ls_ind[i]] = i\n",
    "print(all_dise_dict)\n",
    "    \n",
    "ptc['indication_id'] = ptc['indication'].map(all_dise_dict)\n",
    "ptc"
   ],
   "outputs": [],
   "execution_count": null
  },
  {
   "cell_type": "code",
   "id": "3dcaf860",
   "metadata": {
    "jupyter": {
     "is_executing": true
    }
   },
   "source": [
    "# filter subjects with PARKINSON and healthy indication\n",
    "# 25 PARKINSON & 47 healthy \n",
    "ptc = ptc[((ptc['indication_id']==20)|(ptc['indication_id']==2))]\n",
    "ptc['is_parkinson'] = 0\n",
    "ptc['is_parkinson'][ptc['indication_id']==20] = 1\n",
    "ptc"
   ],
   "outputs": [],
   "execution_count": null
  },
  {
   "cell_type": "code",
   "id": "3aa8593c",
   "metadata": {
    "jupyter": {
     "is_executing": true
    }
   },
   "source": [
    "# label.npy\n",
    "# initialization column 'subject_id'\n",
    "ptc['subject_id'] = 0\n",
    "for i in range(ptc.shape[0]):\n",
    "    ptc['subject_id'].iloc[i] = i+1\n",
    "\n",
    "df_label = ptc[['is_parkinson', 'subject_id']]\n",
    "label_path = './Label'\n",
    "if not os.path.exists(label_path):\n",
    "    os.mkdir(label_path)\n",
    "    \n",
    "np.save(label_path + '/label.npy', df_label.values)"
   ],
   "outputs": [],
   "execution_count": null
  },
  {
   "cell_type": "code",
   "id": "a4318368",
   "metadata": {
    "scrolled": true,
    "jupyter": {
     "is_executing": true
    }
   },
   "source": [
    "np.load('./Label/label.npy')"
   ],
   "outputs": [],
   "execution_count": null
  },
  {
   "cell_type": "code",
   "id": "2298cdfa",
   "metadata": {
    "jupyter": {
     "is_executing": true
    }
   },
   "source": [
    "# EEG preprocessing\n",
    "\n",
    "# resampling to 256Hz\n",
    "def resampling(array, freq=500, kind='linear'):\n",
    "    t = np.linspace(1, len(array), len(array))\n",
    "    f = interpolate.interp1d(t, array, kind=kind)\n",
    "    t_new = np.linspace(1, len(array), int(len(array)/freq * 256))\n",
    "    new_array = f(t_new)\n",
    "    return new_array\n",
    "\n",
    "# segmentation with no overlapping (256 timestamps)\n",
    "# start from the middle position\n",
    "def segment(df, window_size=256):\n",
    "    res = []\n",
    "    start = int(df.shape[0]/2)\n",
    "    left_index = start - int(start/window_size) * window_size\n",
    "    right_index = start + int((df.shape[0]-start)/window_size) * window_size\n",
    "    for i in range(left_index, right_index, window_size):\n",
    "        res.append(df.iloc[i: i+window_size, :])   \n",
    "    return res\n",
    "\n",
    "\n",
    "def eeg_data(eeg_path):\n",
    "    # read .csv file\n",
    "    df = pd.read_csv(eeg_path)\n",
    "    \"\"\"\n",
    "    df['indication'] = ptc[ptc['participants_ID']==task_name.split('_')[0]]['indication'].values[0]\n",
    "    df['task_label'] = task_name.split('_')[-2]\n",
    "    df['session_label'] = task_name.split('_')[1]\n",
    "    df['subject_label'] = task_name.split('_')[0]\n",
    "    # mapping disease label\n",
    "    df['num_indication'] = df['indication'].map(all_dise_dict)\n",
    "    \"\"\"\n",
    "    trial = []\n",
    "    for i in range(df.shape[1]):\n",
    "        data = resampling(df.iloc[:, i].values, freq=500, kind='linear')\n",
    "        data = pd.Series(data)\n",
    "        trial.append(data)\n",
    "    df_new = pd.concat(trial, axis=1, ignore_index=True)   \n",
    "    # segmentation\n",
    "    res_df = segment(df_new, window_size=256)\n",
    "    return res_df"
   ],
   "outputs": [],
   "execution_count": null
  },
  {
   "cell_type": "code",
   "id": "118cdf4b",
   "metadata": {
    "scrolled": true,
    "jupyter": {
     "is_executing": true
    }
   },
   "source": [
    "# 911 valid subjects\n",
    "# Unified sampling rate: 500Hz\n",
    "# Unified channels (26 EEG electrodes, 7 additional electrodes)\n",
    "# Initial data downloaded from TDBrain database: All the EEG signals are preprocessed and saved as CSV files\n",
    "# Data structure: subject-session-task(EC/EO)\n",
    "\n",
    "feature_path = './Feature'\n",
    "if not os.path.exists(feature_path):\n",
    "    os.mkdir(feature_path)\n",
    "\n",
    "sub_id = 1\n",
    "ls_ptc = ptc['participants_ID'].to_list()\n",
    "for sub in os.listdir(root):\n",
    "    #print(sub)\n",
    "    # select valid subjects\n",
    "    if sub in ls_ptc:\n",
    "        sub_path = os.path.join(root, sub) \n",
    "        li_sub = []\n",
    "        for ses in os.listdir(sub_path):\n",
    "            ses_path = os.path.join(sub_path, ses, 'eeg')\n",
    "            for task in os.listdir(ses_path):\n",
    "                # only use EC task\n",
    "                if 'EC' in task:\n",
    "                    task_path = os.path.join(ses_path, task)\n",
    "                    res_df = eeg_data(task_path)\n",
    "                    for df_std in res_df:\n",
    "                        print(df_std)\n",
    "                        print('--------------------------------------------------------------------------')\n",
    "                        li_sub.append(df_std.values)\n",
    "        array_sub = np.array(li_sub)\n",
    "        print(array_sub.shape)\n",
    "        np.save(feature_path + '/feature_{:02d}.npy'.format(sub_id), array_sub)  # :03d to save 1 as 01 to avoid potential sorting issue\n",
    "        sub_id += 1"
   ],
   "outputs": [],
   "execution_count": null
  },
  {
   "cell_type": "code",
   "id": "2238442d",
   "metadata": {
    "scrolled": true,
    "jupyter": {
     "is_executing": true
    }
   },
   "source": [
    "# Test the saved npy file\n",
    "# example\n",
    "np.load('./Feature/feature_16.npy').shape"
   ],
   "outputs": [],
   "execution_count": null
  }
 ],
 "metadata": {
  "kernelspec": {
   "display_name": "Python 3 (ipykernel)",
   "language": "python",
   "name": "python3"
  },
  "language_info": {
   "codemirror_mode": {
    "name": "ipython",
    "version": 3
   },
   "file_extension": ".py",
   "mimetype": "text/x-python",
   "name": "python",
   "nbconvert_exporter": "python",
   "pygments_lexer": "ipython3",
   "version": "3.8.16"
  }
 },
 "nbformat": 4,
 "nbformat_minor": 5
}
