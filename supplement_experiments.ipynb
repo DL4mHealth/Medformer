{
 "cells": [
  {
   "metadata": {},
   "cell_type": "markdown",
   "source": "#### TDBrain",
   "id": "2e7345c2c8bf0add"
  },
  {
   "metadata": {},
   "cell_type": "code",
   "outputs": [],
   "execution_count": null,
   "source": [
    "# TCN\n",
    "!python -u run.py --task_name classification --is_training 1 --root_path ./dataset/TDBRAIN/ --model_id TDBRAIN-Indep --model TCN --data TDBRAIN --e_layers 6 --batch_size 32 --d_model 128 --d_ff 256 --des 'Exp' --itr 5 --learning_rate 0.0001 --train_epochs 100 --patience 10"
   ],
   "id": "b43da19c99dadf05"
  },
  {
   "metadata": {},
   "cell_type": "markdown",
   "source": "#### UCI-HAR",
   "id": "9ed48c9272d7a281"
  },
  {
   "metadata": {},
   "cell_type": "code",
   "outputs": [],
   "execution_count": null,
   "source": [
    "# Crossformer\n",
    "!python -u run.py --task_name classification --is_training 1 --root_path ./dataset/UCI-HAR/ --model_id UCI-HAR --model Crossformer --data UCI-HAR --e_layers 6 --batch_size 32 --d_model 128 --d_ff 256 --des 'Exp' --itr 5 --learning_rate 0.0001 --train_epochs 100 --patience 10\n",
    "\n",
    "# Reformer\n",
    "!python -u run.py --task_name classification --is_training 1 --root_path ./dataset/UCI-HAR/ --model_id UCI-HAR --model Reformer --data UCI-HAR --e_layers 6 --batch_size 32 --d_model 128 --d_ff 256 --des 'Exp' --itr 5 --learning_rate 0.0001 --train_epochs 100 --patience 10\n",
    "\n",
    "# Transformer\n",
    "!python -u run.py --task_name classification --is_training 1 --root_path ./dataset/UCI-HAR/ --model_id UCI-HAR --model Transformer --data UCI-HAR --e_layers 6 --batch_size 32 --d_model 128 --d_ff 256 --des 'Exp' --itr 5 --learning_rate 0.0001 --train_epochs 100 --patience 10\n",
    "\n",
    "# TCN\n",
    "!python -u run.py --task_name classification --is_training 1 --root_path ./dataset/UCI-HAR/ --model_id UCI-HAR --model Transformer --data UCI-HAR --e_layers 6 --batch_size 32 --d_model 128 --d_ff 256 --des 'Exp' --itr 5 --learning_rate 0.0001 --train_epochs 100 --patience 10\n",
    "\n",
    "# Medformer\n",
    "!python -u run.py --task_name classification --is_training 1 --root_path ./dataset/UCI-HAR/ --model_id UCI-HAR --model Medformer --data UCI-HAR --e_layers 6 --batch_size 32 --d_model 128 --d_ff 256 --patch_len_list 4,4,8,8 --augmentations flip,shuffle,jitter,drop --swa --des 'Exp' --itr 5 --learning_rate 0.0001 --train_epochs 100 --patience 10"
   ],
   "id": "e0806346c6437255"
  },
  {
   "metadata": {},
   "cell_type": "markdown",
   "source": "#### FLAAP",
   "id": "c88a9b30f75a06fd"
  },
  {
   "metadata": {},
   "cell_type": "code",
   "outputs": [],
   "execution_count": null,
   "source": [
    "# Crossformer\n",
    "!python -u run.py --task_name classification --is_training 1 --root_path ./dataset/FLAAP/ --model_id FLAAP --model Crossformer --data FLAAP --e_layers 6 --batch_size 32 --d_model 128 --d_ff 256 --des 'Exp' --itr 5 --learning_rate 0.0001 --train_epochs 100 --patience 10\n",
    "\n",
    "# Reformer\n",
    "!python -u run.py --task_name classification --is_training 1 --root_path ./dataset/FLAAP/ --model_id FLAAP --model Reformer --data FLAAP --e_layers 6 --batch_size 32 --d_model 128 --d_ff 256 --des 'Exp' --itr 5 --learning_rate 0.0001 --train_epochs 100 --patience 10\n",
    "\n",
    "# Transformer\n",
    "!python -u run.py --task_name classification --is_training 1 --root_path ./dataset/FLAAP/ --model_id FLAAP --model Transformer --data FLAAP --e_layers 6 --batch_size 32 --d_model 128 --d_ff 256 --des 'Exp' --itr 5 --learning_rate 0.0001 --train_epochs 100 --patience 10\n",
    "\n",
    "# TCN\n",
    "!python -u run.py --task_name classification --is_training 1 --root_path ./dataset/FLAAP/ --model_id FLAAP --model Transformer --data FLAAP --e_layers 6 --batch_size 32 --d_model 128 --d_ff 256 --des 'Exp' --itr 5 --learning_rate 0.0001 --train_epochs 100 --patience 10\n",
    "\n",
    "# Medformer\n",
    "!python -u run.py --task_name classification --is_training 1 --root_path ./dataset/FLAAP/ --model_id FLAAP --model Medformer --data FLAAP --e_layers 6 --batch_size 32 --d_model 128 --d_ff 256 --patch_len_list 2,4,8 --augmentations mask,drop --swa --des 'Exp' --itr 5 --learning_rate 0.0001 --train_epochs 100 --patience 10"
   ],
   "id": "53f05e1fa880ca4d"
  }
 ],
 "metadata": {
  "kernelspec": {
   "display_name": "Python 3",
   "language": "python",
   "name": "python3"
  },
  "language_info": {
   "codemirror_mode": {
    "name": "ipython",
    "version": 2
   },
   "file_extension": ".py",
   "mimetype": "text/x-python",
   "name": "python",
   "nbconvert_exporter": "python",
   "pygments_lexer": "ipython2",
   "version": "2.7.6"
  }
 },
 "nbformat": 4,
 "nbformat_minor": 5
}
